{
 "cells": [
  {
   "cell_type": "code",
   "execution_count": 1,
   "metadata": {},
   "outputs": [
    {
     "data": {
      "text/html": [
       "<div>\n",
       "<style scoped>\n",
       "    .dataframe tbody tr th:only-of-type {\n",
       "        vertical-align: middle;\n",
       "    }\n",
       "\n",
       "    .dataframe tbody tr th {\n",
       "        vertical-align: top;\n",
       "    }\n",
       "\n",
       "    .dataframe thead th {\n",
       "        text-align: right;\n",
       "    }\n",
       "</style>\n",
       "<table border=\"1\" class=\"dataframe\">\n",
       "  <thead>\n",
       "    <tr style=\"text-align: right;\">\n",
       "      <th></th>\n",
       "      <th>Age</th>\n",
       "      <th>Workclass</th>\n",
       "      <th>Fnlwgt</th>\n",
       "      <th>Education</th>\n",
       "      <th>education_num</th>\n",
       "      <th>marital_status</th>\n",
       "      <th>occupation</th>\n",
       "      <th>relationship</th>\n",
       "      <th>race</th>\n",
       "      <th>sex</th>\n",
       "      <th>capital_gain</th>\n",
       "      <th>capital_loss</th>\n",
       "      <th>hours_per_week</th>\n",
       "      <th>native_country</th>\n",
       "      <th>income</th>\n",
       "    </tr>\n",
       "  </thead>\n",
       "  <tbody>\n",
       "    <tr>\n",
       "      <th>0</th>\n",
       "      <td>39</td>\n",
       "      <td>State-gov</td>\n",
       "      <td>77516</td>\n",
       "      <td>Bachelors</td>\n",
       "      <td>13</td>\n",
       "      <td>Never-married</td>\n",
       "      <td>Adm-clerical</td>\n",
       "      <td>Not-in-family</td>\n",
       "      <td>White</td>\n",
       "      <td>Male</td>\n",
       "      <td>2174</td>\n",
       "      <td>0</td>\n",
       "      <td>40</td>\n",
       "      <td>United-States</td>\n",
       "      <td>&lt;=50K</td>\n",
       "    </tr>\n",
       "    <tr>\n",
       "      <th>1</th>\n",
       "      <td>50</td>\n",
       "      <td>Self-emp-not-inc</td>\n",
       "      <td>83311</td>\n",
       "      <td>Bachelors</td>\n",
       "      <td>13</td>\n",
       "      <td>Married-civ-spouse</td>\n",
       "      <td>Exec-managerial</td>\n",
       "      <td>Husband</td>\n",
       "      <td>White</td>\n",
       "      <td>Male</td>\n",
       "      <td>0</td>\n",
       "      <td>0</td>\n",
       "      <td>13</td>\n",
       "      <td>United-States</td>\n",
       "      <td>&lt;=50K</td>\n",
       "    </tr>\n",
       "    <tr>\n",
       "      <th>2</th>\n",
       "      <td>38</td>\n",
       "      <td>Private</td>\n",
       "      <td>215646</td>\n",
       "      <td>HS-grad</td>\n",
       "      <td>9</td>\n",
       "      <td>Divorced</td>\n",
       "      <td>Handlers-cleaners</td>\n",
       "      <td>Not-in-family</td>\n",
       "      <td>White</td>\n",
       "      <td>Male</td>\n",
       "      <td>0</td>\n",
       "      <td>0</td>\n",
       "      <td>40</td>\n",
       "      <td>United-States</td>\n",
       "      <td>&lt;=50K</td>\n",
       "    </tr>\n",
       "    <tr>\n",
       "      <th>3</th>\n",
       "      <td>53</td>\n",
       "      <td>Private</td>\n",
       "      <td>234721</td>\n",
       "      <td>11th</td>\n",
       "      <td>7</td>\n",
       "      <td>Married-civ-spouse</td>\n",
       "      <td>Handlers-cleaners</td>\n",
       "      <td>Husband</td>\n",
       "      <td>Black</td>\n",
       "      <td>Male</td>\n",
       "      <td>0</td>\n",
       "      <td>0</td>\n",
       "      <td>40</td>\n",
       "      <td>United-States</td>\n",
       "      <td>&lt;=50K</td>\n",
       "    </tr>\n",
       "    <tr>\n",
       "      <th>4</th>\n",
       "      <td>28</td>\n",
       "      <td>Private</td>\n",
       "      <td>338409</td>\n",
       "      <td>Bachelors</td>\n",
       "      <td>13</td>\n",
       "      <td>Married-civ-spouse</td>\n",
       "      <td>Prof-specialty</td>\n",
       "      <td>Wife</td>\n",
       "      <td>Black</td>\n",
       "      <td>Female</td>\n",
       "      <td>0</td>\n",
       "      <td>0</td>\n",
       "      <td>40</td>\n",
       "      <td>Cuba</td>\n",
       "      <td>&lt;=50K</td>\n",
       "    </tr>\n",
       "  </tbody>\n",
       "</table>\n",
       "</div>"
      ],
      "text/plain": [
       "   Age          Workclass  Fnlwgt   Education  education_num  \\\n",
       "0   39          State-gov   77516   Bachelors             13   \n",
       "1   50   Self-emp-not-inc   83311   Bachelors             13   \n",
       "2   38            Private  215646     HS-grad              9   \n",
       "3   53            Private  234721        11th              7   \n",
       "4   28            Private  338409   Bachelors             13   \n",
       "\n",
       "        marital_status          occupation    relationship    race      sex  \\\n",
       "0        Never-married        Adm-clerical   Not-in-family   White     Male   \n",
       "1   Married-civ-spouse     Exec-managerial         Husband   White     Male   \n",
       "2             Divorced   Handlers-cleaners   Not-in-family   White     Male   \n",
       "3   Married-civ-spouse   Handlers-cleaners         Husband   Black     Male   \n",
       "4   Married-civ-spouse      Prof-specialty            Wife   Black   Female   \n",
       "\n",
       "   capital_gain  capital_loss  hours_per_week  native_country  income  \n",
       "0          2174             0              40   United-States   <=50K  \n",
       "1             0             0              13   United-States   <=50K  \n",
       "2             0             0              40   United-States   <=50K  \n",
       "3             0             0              40   United-States   <=50K  \n",
       "4             0             0              40            Cuba   <=50K  "
      ]
     },
     "execution_count": 1,
     "metadata": {},
     "output_type": "execute_result"
    }
   ],
   "source": [
    "import pandas as pd\n",
    "import numpy as np\n",
    "import matplotlib.pyplot as plt\n",
    "from sklearn.preprocessing import LabelEncoder\n",
    "from sklearn.linear_model import LogisticRegression\n",
    "from sklearn.tree import DecisionTreeClassifier\n",
    "from sklearn.ensemble import RandomForestClassifier\n",
    "from sklearn.svm import SVC\n",
    "from sklearn.neighbors import KNeighborsClassifier\n",
    "from sklearn.model_selection import train_test_split\n",
    "from sklearn.metrics import confusion_matrix,classification_report, accuracy_score\n",
    "df = pd.read_csv('adult.csv', names = ['Age','Workclass','Fnlwgt','Education','education_num','marital_status','occupation','relationship','race','sex','capital_gain','capital_loss','hours_per_week','native_country','income'])\n",
    "df.head()"
   ]
  },
  {
   "cell_type": "code",
   "execution_count": 2,
   "metadata": {},
   "outputs": [
    {
     "data": {
      "text/plain": [
       "(32561, 15)"
      ]
     },
     "execution_count": 2,
     "metadata": {},
     "output_type": "execute_result"
    }
   ],
   "source": [
    "df.shape"
   ]
  },
  {
   "cell_type": "code",
   "execution_count": 3,
   "metadata": {},
   "outputs": [
    {
     "data": {
      "text/plain": [
       "Age               0\n",
       "Workclass         0\n",
       "Fnlwgt            0\n",
       "Education         0\n",
       "education_num     0\n",
       "marital_status    0\n",
       "occupation        0\n",
       "relationship      0\n",
       "race              0\n",
       "sex               0\n",
       "capital_gain      0\n",
       "capital_loss      0\n",
       "hours_per_week    0\n",
       "native_country    0\n",
       "income            0\n",
       "dtype: int64"
      ]
     },
     "execution_count": 3,
     "metadata": {},
     "output_type": "execute_result"
    }
   ],
   "source": [
    "df.isnull().sum()"
   ]
  },
  {
   "cell_type": "code",
   "execution_count": 4,
   "metadata": {},
   "outputs": [
    {
     "data": {
      "text/plain": [
       "object    9\n",
       "int64     6\n",
       "dtype: int64"
      ]
     },
     "execution_count": 4,
     "metadata": {},
     "output_type": "execute_result"
    }
   ],
   "source": [
    "df.dtypes.value_counts()"
   ]
  },
  {
   "cell_type": "code",
   "execution_count": 5,
   "metadata": {},
   "outputs": [
    {
     "data": {
      "text/plain": [
       "24"
      ]
     },
     "execution_count": 5,
     "metadata": {},
     "output_type": "execute_result"
    }
   ],
   "source": [
    "df.duplicated().sum()"
   ]
  },
  {
   "cell_type": "code",
   "execution_count": 6,
   "metadata": {},
   "outputs": [],
   "source": [
    "df.drop_duplicates(inplace=True)"
   ]
  },
  {
   "cell_type": "code",
   "execution_count": 7,
   "metadata": {},
   "outputs": [
    {
     "data": {
      "text/plain": [
       "Age                int64\n",
       "Workclass         object\n",
       "Fnlwgt             int64\n",
       "Education         object\n",
       "education_num      int64\n",
       "marital_status    object\n",
       "occupation        object\n",
       "relationship      object\n",
       "race              object\n",
       "sex               object\n",
       "capital_gain       int64\n",
       "capital_loss       int64\n",
       "hours_per_week     int64\n",
       "native_country    object\n",
       "income            object\n",
       "dtype: object"
      ]
     },
     "execution_count": 7,
     "metadata": {},
     "output_type": "execute_result"
    }
   ],
   "source": [
    "df.dtypes"
   ]
  },
  {
   "cell_type": "code",
   "execution_count": 8,
   "metadata": {},
   "outputs": [],
   "source": [
    "lb = LabelEncoder()\n",
    "df['Workclass'] = lb.fit_transform(df['Workclass'])\n",
    "df['Education'] = lb.fit_transform(df['Education'])\n",
    "df['marital_status'] = lb.fit_transform(df['marital_status'])\n",
    "df['occupation'] = lb.fit_transform(df['occupation'])\n",
    "df['relationship'] = lb.fit_transform(df['relationship'])\n",
    "df['race'] = lb.fit_transform(df['race'])\n",
    "df['sex'] = lb.fit_transform(df['sex'])\n",
    "df['native_country'] = lb.fit_transform(df['native_country'])\n",
    "df['income'] = lb.fit_transform(df['income'])"
   ]
  },
  {
   "cell_type": "code",
   "execution_count": 9,
   "metadata": {},
   "outputs": [
    {
     "data": {
      "text/plain": [
       "Age               int64\n",
       "Workclass         int32\n",
       "Fnlwgt            int64\n",
       "Education         int32\n",
       "education_num     int64\n",
       "marital_status    int32\n",
       "occupation        int32\n",
       "relationship      int32\n",
       "race              int32\n",
       "sex               int32\n",
       "capital_gain      int64\n",
       "capital_loss      int64\n",
       "hours_per_week    int64\n",
       "native_country    int32\n",
       "income            int32\n",
       "dtype: object"
      ]
     },
     "execution_count": 9,
     "metadata": {},
     "output_type": "execute_result"
    }
   ],
   "source": [
    "df.dtypes"
   ]
  },
  {
   "cell_type": "code",
   "execution_count": 10,
   "metadata": {},
   "outputs": [
    {
     "name": "stdout",
     "output_type": "stream",
     "text": [
      "(32537, 14)\n",
      "(32537,)\n"
     ]
    }
   ],
   "source": [
    "x = df.iloc[:,:-1]\n",
    "y = df.iloc[:,-1]\n",
    "print(x.shape)\n",
    "print(y.shape)"
   ]
  },
  {
   "cell_type": "code",
   "execution_count": 11,
   "metadata": {},
   "outputs": [
    {
     "name": "stdout",
     "output_type": "stream",
     "text": [
      "(26029, 14)\n",
      "(6508, 14)\n",
      "(26029,)\n",
      "(6508,)\n"
     ]
    }
   ],
   "source": [
    "x_train,x_test,y_train,y_test = train_test_split(x,y,test_size=0.20,random_state=32)\n",
    "print(x_train.shape)\n",
    "print(x_test.shape)\n",
    "print(y_train.shape)\n",
    "print(y_test.shape)"
   ]
  },
  {
   "cell_type": "code",
   "execution_count": 12,
   "metadata": {},
   "outputs": [],
   "source": [
    "def mscore(model):\n",
    "    print('Training Score',model.score(x_train,y_train))\n",
    "    print('Testing Score',model.score(x_test,y_test))\n",
    "\n",
    "def gen_matrix(y_test,y_pred):\n",
    "    cm  = confusion_matrix(y_test,y_pred)\n",
    "    print(cm)\n",
    "    print(classification_report(y_test,y_pred,zero_division=0))\n",
    "    print('Accuracy Score',accuracy_score(y_test,y_pred))\n",
    "    p=cm[0][0]/(cm[0][0]+cm[1][0])\n",
    "    r=cm[0][0]/(cm[0][0]+cm[0][1])\n",
    "    print('Precision as calculated from the Confusion Matrix is: ',p )\n",
    "    print('Recall as calculated from the Confusion Matrix is: ',r )\n",
    "    print('F1-score as calculated from the Confusion Matrix is: ', (2*p*r)/(p+r))\n",
    "    print('Accuracy as calculated from the Confusion Matrix is: ', (cm[1][1]+cm[0][0])/(cm[0][0]+cm[0][1]+cm[1][0]+cm[1][1]))\n",
    "    print('Percentage of misclassification: ', ((cm[0][1]+cm[1][0])*100)/(cm[0][0]+cm[0][1]+cm[1][0]+cm[1][1]), end='%')"
   ]
  },
  {
   "cell_type": "markdown",
   "metadata": {},
   "source": [
    "**1)DECISION TREE CLASSIFIER**"
   ]
  },
  {
   "cell_type": "code",
   "execution_count": 13,
   "metadata": {},
   "outputs": [
    {
     "name": "stdout",
     "output_type": "stream",
     "text": [
      "Training Score 0.8662645510776442\n",
      "Testing Score 0.8529502151198525\n",
      "[[4552  390]\n",
      " [ 567  999]]\n",
      "              precision    recall  f1-score   support\n",
      "\n",
      "           0       0.89      0.92      0.90      4942\n",
      "           1       0.72      0.64      0.68      1566\n",
      "\n",
      "    accuracy                           0.85      6508\n",
      "   macro avg       0.80      0.78      0.79      6508\n",
      "weighted avg       0.85      0.85      0.85      6508\n",
      "\n",
      "Accuracy Score 0.8529502151198525\n",
      "Precision as calculated from the Confusion Matrix is:  0.8892361789411994\n",
      "Recall as calculated from the Confusion Matrix is:  0.9210845811412384\n",
      "F1-score as calculated from the Confusion Matrix is:  0.9048802305933804\n",
      "Accuracy as calculated from the Confusion Matrix is:  0.8529502151198525\n",
      "Percentage of misclassification:  14.704978488014751%"
     ]
    }
   ],
   "source": [
    "#1) Decision Tree Classifier\n",
    "m1 = DecisionTreeClassifier(criterion='entropy',max_depth=11,min_samples_split=50)\n",
    "m1.fit(x_train,y_train)\n",
    "mscore(m1)\n",
    "ypred_m1 = m1.predict(x_test)\n",
    "gen_matrix(y_test,ypred_m1)"
   ]
  },
  {
   "cell_type": "markdown",
   "metadata": {},
   "source": [
    "**2)RANDOM FOREST CLASSIFIER**"
   ]
  },
  {
   "cell_type": "code",
   "execution_count": 14,
   "metadata": {},
   "outputs": [
    {
     "name": "stdout",
     "output_type": "stream",
     "text": [
      "Training Score 0.8636136616850436\n",
      "Testing Score 0.864320835894284\n",
      "[[4749  193]\n",
      " [ 690  876]]\n",
      "              precision    recall  f1-score   support\n",
      "\n",
      "           0       0.87      0.96      0.91      4942\n",
      "           1       0.82      0.56      0.66      1566\n",
      "\n",
      "    accuracy                           0.86      6508\n",
      "   macro avg       0.85      0.76      0.79      6508\n",
      "weighted avg       0.86      0.86      0.85      6508\n",
      "\n",
      "Accuracy Score 0.864320835894284\n",
      "Precision as calculated from the Confusion Matrix is:  0.873138444567016\n",
      "Recall as calculated from the Confusion Matrix is:  0.9609469850263052\n",
      "F1-score as calculated from the Confusion Matrix is:  0.9149407571524901\n",
      "Accuracy as calculated from the Confusion Matrix is:  0.864320835894284\n",
      "Percentage of misclassification:  13.567916410571604%"
     ]
    }
   ],
   "source": [
    "#2)Random Forest Classifier\n",
    "m2 = RandomForestClassifier(n_estimators=500,criterion='entropy',max_depth=11,min_samples_split=50)\n",
    "m2.fit(x_train,y_train)\n",
    "mscore(m2)\n",
    "ypred_m2 = m2.predict(x_test)\n",
    "gen_matrix(y_test,ypred_m2)"
   ]
  },
  {
   "cell_type": "markdown",
   "metadata": {},
   "source": [
    "**3)KNN CLASSIFIER**"
   ]
  },
  {
   "cell_type": "code",
   "execution_count": 15,
   "metadata": {},
   "outputs": [
    {
     "name": "stdout",
     "output_type": "stream",
     "text": [
      "Training Score 0.8020285066656422\n",
      "Testing Score 0.8017824216349109\n",
      "[[4897   45]\n",
      " [1245  321]]\n",
      "              precision    recall  f1-score   support\n",
      "\n",
      "           0       0.80      0.99      0.88      4942\n",
      "           1       0.88      0.20      0.33      1566\n",
      "\n",
      "    accuracy                           0.80      6508\n",
      "   macro avg       0.84      0.60      0.61      6508\n",
      "weighted avg       0.82      0.80      0.75      6508\n",
      "\n",
      "Accuracy Score 0.8017824216349109\n",
      "Precision as calculated from the Confusion Matrix is:  0.7972972972972973\n",
      "Recall as calculated from the Confusion Matrix is:  0.990894374747066\n",
      "F1-score as calculated from the Confusion Matrix is:  0.8836160230963552\n",
      "Accuracy as calculated from the Confusion Matrix is:  0.8017824216349109\n",
      "Percentage of misclassification:  19.82175783650891%"
     ]
    }
   ],
   "source": [
    "#3)KNN Classifier\n",
    "m3 = KNeighborsClassifier(n_neighbors=25)\n",
    "m3.fit(x_train,y_train)\n",
    "mscore(m3)\n",
    "ypred_m3 = m3.predict(x_test)\n",
    "gen_matrix(y_test,ypred_m3)\n"
   ]
  },
  {
   "cell_type": "markdown",
   "metadata": {},
   "source": [
    "**4)LOGISTIC REGRESSION**"
   ]
  },
  {
   "cell_type": "code",
   "execution_count": 16,
   "metadata": {},
   "outputs": [
    {
     "name": "stdout",
     "output_type": "stream",
     "text": [
      "Training Score 0.7920396480848284\n",
      "Testing Score 0.7947141979102643\n",
      "[[4688  254]\n",
      " [1082  484]]\n",
      "              precision    recall  f1-score   support\n",
      "\n",
      "           0       0.81      0.95      0.88      4942\n",
      "           1       0.66      0.31      0.42      1566\n",
      "\n",
      "    accuracy                           0.79      6508\n",
      "   macro avg       0.73      0.63      0.65      6508\n",
      "weighted avg       0.77      0.79      0.77      6508\n",
      "\n",
      "Accuracy Score 0.7947141979102643\n",
      "Precision as calculated from the Confusion Matrix is:  0.8124783362218371\n",
      "Recall as calculated from the Confusion Matrix is:  0.9486038041278835\n",
      "F1-score as calculated from the Confusion Matrix is:  0.8752800597460791\n",
      "Accuracy as calculated from the Confusion Matrix is:  0.7947141979102643\n",
      "Percentage of misclassification:  20.528580208973572%"
     ]
    }
   ],
   "source": [
    "#4)Logistic Regression\n",
    "m4 = LogisticRegression(max_iter=1000,solver='liblinear')\n",
    "m4.fit(x_train,y_train)\n",
    "m4.fit(x_train,y_train)\n",
    "mscore(m4)\n",
    "ypred_m4 = m4.predict(x_test)\n",
    "gen_matrix(y_test,ypred_m4)\n"
   ]
  },
  {
   "cell_type": "markdown",
   "metadata": {},
   "source": [
    "**5)SVM CLASSIFIER**"
   ]
  },
  {
   "cell_type": "code",
   "execution_count": 17,
   "metadata": {},
   "outputs": [
    {
     "name": "stdout",
     "output_type": "stream",
     "text": [
      "Training Score 0.7961120288908525\n",
      "Testing Score 0.7968653964351567\n",
      "[[4729  213]\n",
      " [1109  457]]\n",
      "              precision    recall  f1-score   support\n",
      "\n",
      "           0       0.81      0.96      0.88      4942\n",
      "           1       0.68      0.29      0.41      1566\n",
      "\n",
      "    accuracy                           0.80      6508\n",
      "   macro avg       0.75      0.62      0.64      6508\n",
      "weighted avg       0.78      0.80      0.76      6508\n",
      "\n",
      "Accuracy Score 0.7968653964351567\n",
      "Precision as calculated from the Confusion Matrix is:  0.8100376841384036\n",
      "Recall as calculated from the Confusion Matrix is:  0.9569000404694455\n",
      "F1-score as calculated from the Confusion Matrix is:  0.8773654916512059\n",
      "Accuracy as calculated from the Confusion Matrix is:  0.7968653964351567\n",
      "Percentage of misclassification:  20.313460356484327%"
     ]
    }
   ],
   "source": [
    "#5)SVM Classifier\n",
    "m5 = SVC(kernel='linear')\n",
    "m5.fit(x_train,y_train)\n",
    "m5.fit(x_train,y_train)\n",
    "mscore(m5)\n",
    "ypred_m5 = m5.predict(x_test)\n",
    "gen_matrix(y_test,ypred_m5)"
   ]
  },
  {
   "cell_type": "markdown",
   "metadata": {},
   "source": [
    "The Model with best Accuracy is **Random Forest Classifier**"
   ]
  }
 ],
 "metadata": {
  "kernelspec": {
   "display_name": "Python 3.10.6 64-bit",
   "language": "python",
   "name": "python3"
  },
  "language_info": {
   "codemirror_mode": {
    "name": "ipython",
    "version": 3
   },
   "file_extension": ".py",
   "mimetype": "text/x-python",
   "name": "python",
   "nbconvert_exporter": "python",
   "pygments_lexer": "ipython3",
   "version": "3.10.6"
  },
  "orig_nbformat": 4,
  "vscode": {
   "interpreter": {
    "hash": "2d1387d17d1b6a518d7cfec7acc4369878bed9c7f6010b500f4864fdf37b253d"
   }
  }
 },
 "nbformat": 4,
 "nbformat_minor": 2
}
